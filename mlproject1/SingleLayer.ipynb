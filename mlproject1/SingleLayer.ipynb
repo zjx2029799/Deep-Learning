{
 "cells": [
  {
   "cell_type": "code",
   "execution_count": 8,
   "metadata": {
    "collapsed": true
   },
   "outputs": [],
   "source": [
    "import tensorflow as tf\n",
    "import numpy as np\n",
    "import random as rd\n",
    "\n",
    "import matplotlib.pyplot as plt\n",
    "%matplotlib inline"
   ]
  },
  {
   "cell_type": "code",
   "execution_count": 9,
   "metadata": {
    "collapsed": true
   },
   "outputs": [],
   "source": [
    "image = np.loadtxt('bbs-train.txt')"
   ]
  },
  {
   "cell_type": "code",
   "execution_count": 10,
   "metadata": {
    "collapsed": true
   },
   "outputs": [],
   "source": [
    "label = np.loadtxt('label-train.txt')"
   ]
  },
  {
   "cell_type": "code",
   "execution_count": 11,
   "metadata": {
    "collapsed": true
   },
   "outputs": [],
   "source": [
    "image_train = image[:4000]\n",
    "image_val = image[4000:]\n",
    "labels = np.zeros((len(label),2))\n",
    "for i in range(len(label)):\n",
    "    if label[i,1] == 0:\n",
    "        labels[i] = [0.0, 1.0]\n",
    "    if label[i,1] == 1:\n",
    "        labels[i] = [1.0, 0.0]\n",
    "\n",
    "label_train = labels[:4000]\n",
    "label_val = labels[4000:]\n",
    "\n"
   ]
  },
  {
   "cell_type": "code",
   "execution_count": 12,
   "metadata": {},
   "outputs": [
    {
     "data": {
      "text/plain": [
       "array([[  710.1,   766.2,   822.3, ...,   441.4,   348.6,   273.8],\n",
       "       [  234.4,   271.9,   310.2, ...,   492.4,   424.3,   361.1],\n",
       "       [  942.3,  1069.5,  1153.2, ...,   775.6,   607.9,   478.8],\n",
       "       ..., \n",
       "       [  642.1,   630. ,   644.1, ...,   708.4,   572.5,   440. ],\n",
       "       [  301.3,   346.6,   410.4, ...,   571.2,   442.4,   373.8],\n",
       "       [  106.9,   126.9,   178.2, ...,   266.4,   278.9,   279.4]])"
      ]
     },
     "execution_count": 12,
     "metadata": {},
     "output_type": "execute_result"
    }
   ],
   "source": [
    "label"
   ]
  },
  {
   "cell_type": "code",
   "execution_count": 13,
   "metadata": {
    "collapsed": true
   },
   "outputs": [],
   "source": [
    "def next_batch(num, data, labels):\n",
    "    '''\n",
    "    Return a total of `num` random samples and labels. \n",
    "    '''\n",
    "    idx = np.arange(0 , len(data))\n",
    "    np.random.shuffle(idx)\n",
    "    idx = idx[:num]\n",
    "    data_shuffle = [data[ i] for i in idx]\n",
    "    labels_shuffle = [labels[ i] for i in idx]\n",
    "\n",
    "    return np.asarray(data_shuffle), np.asarray(labels_shuffle)"
   ]
  },
  {
   "cell_type": "code",
   "execution_count": 14,
   "metadata": {},
   "outputs": [
    {
     "name": "stdout",
     "output_type": "stream",
     "text": [
      "train's shape:      4000\n",
      "validation's shape: 546\n"
     ]
    }
   ],
   "source": [
    "print (\"train's shape:     \", len(image_train))\n",
    "print (\"validation's shape:\", len(image_val))"
   ]
  },
  {
   "cell_type": "code",
   "execution_count": 15,
   "metadata": {},
   "outputs": [
    {
     "name": "stdout",
     "output_type": "stream",
     "text": [
      "0.225\n",
      "0.55\n",
      "0.725\n",
      "0.225\n",
      "0.775\n",
      "0.7\n",
      "0.75\n",
      "0.3\n",
      "0.85\n",
      "0.65\n",
      "\n",
      "training complete! The accuracy is :\n",
      "0.734432\n"
     ]
    }
   ],
   "source": [
    "#using single layer to train\n",
    "epochs = 10\n",
    "learning_rate = 0.1\n",
    "\n",
    "#input\n",
    "# declare the training data placeholders\n",
    "# input x  784\n",
    "x = tf.placeholder(\"float\", [None, 800])\n",
    "y = tf.placeholder(\"float\", [None, 2])\n",
    "\n",
    "#inference\n",
    "# now declare the weights connecting the input to the hidden layer\n",
    "W = tf.Variable(tf.truncated_normal([800, 2]))\n",
    "b = tf.Variable(tf.zeros([2]))\n",
    "\n",
    "# now calculate the hidden layer output - in this case, let's use a softmax activated\n",
    "# output layer\n",
    "# matmul is the function used for multiplying two matrix\n",
    "y_ = tf.matmul(x,W) + b\n",
    "\n",
    "#loss\n",
    "y_clipped = tf.clip_by_value(y_, 1e-10, 0.9999999)\n",
    "cross_entropy = tf.reduce_mean(tf.nn.softmax_cross_entropy_with_logits(labels=y,logits=y_))\n",
    "\n",
    "optimiser = tf.train.GradientDescentOptimizer(learning_rate=learning_rate).minimize(cross_entropy)\n",
    "\n",
    "\n",
    "# training cycle\n",
    "sess = tf.InteractiveSession()\n",
    "# finally setup the initialisation operator\n",
    "tf.global_variables_initializer().run()\n",
    "\n",
    "correct_prediction = tf.equal(tf.argmax(y_,1), tf.argmax(y,1))\n",
    "accuracy = tf.reduce_mean(tf.cast(correct_prediction, \"float\"))\n",
    "\n",
    "\n",
    "for i in range(1000):\n",
    "    batch_x, batch_y = next_batch(40, image_train, label_train)\n",
    "    sess.run(optimiser, feed_dict={x: batch_x, y: batch_y})\n",
    "    if i % 100 == 0:\n",
    "        print(sess.run(accuracy, feed_dict = {x: batch_x, y: batch_y}))\n",
    "    \n",
    "print()\n",
    "print(\"training complete! The accuracy is :\")\n",
    "print (sess.run(accuracy, feed_dict = {x: image_val, y: label_val}))\n",
    "\n"
   ]
  },
  {
   "cell_type": "code",
   "execution_count": null,
   "metadata": {
    "collapsed": true
   },
   "outputs": [],
   "source": []
  },
  {
   "cell_type": "code",
   "execution_count": null,
   "metadata": {
    "collapsed": true
   },
   "outputs": [],
   "source": []
  }
 ],
 "metadata": {
  "kernelspec": {
   "display_name": "Python 3",
   "language": "python",
   "name": "python3"
  },
  "language_info": {
   "codemirror_mode": {
    "name": "ipython",
    "version": 3
   },
   "file_extension": ".py",
   "mimetype": "text/x-python",
   "name": "python",
   "nbconvert_exporter": "python",
   "pygments_lexer": "ipython3",
   "version": "3.6.2"
  }
 },
 "nbformat": 4,
 "nbformat_minor": 2
}
