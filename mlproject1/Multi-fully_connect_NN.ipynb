{
 "cells": [
  {
   "cell_type": "code",
   "execution_count": 1,
   "metadata": {},
   "outputs": [
    {
     "name": "stderr",
     "output_type": "stream",
     "text": [
      "Using TensorFlow backend.\n"
     ]
    }
   ],
   "source": [
    "import tensorflow as tf\n",
    "import numpy as np\n",
    "import random as rd\n",
    "from keras.utils import np_utils\n",
    "import matplotlib.pyplot as plt\n",
    "%matplotlib inline"
   ]
  },
  {
   "cell_type": "code",
   "execution_count": 2,
   "metadata": {
    "collapsed": true
   },
   "outputs": [],
   "source": [
    "image = np.loadtxt('bbs-train.txt')\n",
    "label = np.loadtxt('label-train.txt')\n",
    "# image /= np.max(image_train)"
   ]
  },
  {
   "cell_type": "code",
   "execution_count": 3,
   "metadata": {
    "collapsed": true
   },
   "outputs": [],
   "source": [
    "# initialize the dataset\n",
    "image_train = image[:4500]\n",
    "image_val = image[4500:]\n",
    "labels = np.zeros((len(label),2))\n",
    "for i in range(len(label)):\n",
    "    if label[i,1] == 0:\n",
    "        labels[i] = [0.0, 1.0]\n",
    "    if label[i,1] == 1:\n",
    "        labels[i] = [1.0, 0.0]\n",
    "\n",
    "label_train = labels[:4500]\n",
    "label_val = labels[4500:]\n",
    "def next_batch(num, data, labels):\n",
    "    '''\n",
    "    Return a total of `num` random samples and labels. \n",
    "    '''\n",
    "    idx = np.arange(0 , len(data))\n",
    "    np.random.shuffle(idx)\n",
    "    idx = idx[:num]\n",
    "    data_shuffle = [data[ i] for i in idx]\n",
    "    labels_shuffle = [labels[ i] for i in idx]\n",
    "\n",
    "    return np.asarray(data_shuffle), np.asarray(labels_shuffle)"
   ]
  },
  {
   "cell_type": "code",
   "execution_count": 4,
   "metadata": {
    "collapsed": true
   },
   "outputs": [],
   "source": [
    "t = label[0:,1:]\n",
    "t_x = np.reshape(t, (1,4546))\n",
    "labels = np_utils.to_categorical(t_x, 2)"
   ]
  },
  {
   "cell_type": "code",
   "execution_count": 5,
   "metadata": {
    "collapsed": true
   },
   "outputs": [],
   "source": [
    "learning_rate = 0.05\n",
    "epochs = 10\n",
    "batch_size = 100\n",
    "\n",
    "x = tf.placeholder(tf.float32,[None, 800])\n",
    "y = tf.placeholder(tf.float32, [None, 2])\n",
    "\n",
    "# hidden layer1 connect with the input layer\n",
    "W1 = tf.Variable(tf.zeros([800, 500]))\n",
    "b1 = tf.Variable(tf.zeros([500]))\n",
    "\n",
    "# hidden layer2 connect with the output layer\n",
    "W2 = tf.Variable(tf.zeros([500,2]))\n",
    "b2 = tf.Variable(tf.zeros([2]))\n",
    "\n",
    "hidden_out = tf.add(tf.matmul(x, W1), b1)\n",
    "hidden_out = tf.nn.relu(hidden_out)\n",
    "\n",
    "#output layer\n",
    "y_ = tf.nn.softmax(tf.add(tf.matmul(hidden_out, W2), b2))\n",
    "#to make sure that we never get a case were we have a log(0) operation occurring during training\n",
    "y_clipped = tf.clip_by_value(y_, 1e-10, 0.9999999)\n",
    "\n",
    "cross_entropy = -tf.reduce_mean(tf.reduce_sum(y * tf.log(y_clipped) + (1 - y) * tf.log(1 - y_clipped), axis=1))\n",
    "# add an optimiser\n",
    "optimiser = tf.train.GradientDescentOptimizer(learning_rate=learning_rate).minimize(cross_entropy)\n",
    "\n",
    "# finally setup the initialisation operator\n",
    "init_op = tf.global_variables_initializer()\n",
    "\n",
    "# define an accuracy assessment operation\n",
    "correct_prediction = tf.equal(tf.argmax(y, 1), tf.argmax(y_, 1))\n",
    "accuracy = tf.reduce_mean(tf.cast(correct_prediction, tf.float32))\n"
   ]
  },
  {
   "cell_type": "code",
   "execution_count": 6,
   "metadata": {},
   "outputs": [
    {
     "name": "stdout",
     "output_type": "stream",
     "text": [
      "Epoch: 1 cost = 1.292\n",
      "Epoch: 2 cost = 1.261\n",
      "Epoch: 3 cost = 1.261\n",
      "Epoch: 4 cost = 1.271\n",
      "Epoch: 5 cost = 1.242\n",
      "Epoch: 6 cost = 1.255\n",
      "Epoch: 7 cost = 1.272\n",
      "Epoch: 8 cost = 1.271\n",
      "Epoch: 9 cost = 1.258\n",
      "Epoch: 10 cost = 1.263\n",
      "\n",
      "training complete! The accurancy is: \n",
      "0.913043\n"
     ]
    }
   ],
   "source": [
    "with tf.Session() as sess:\n",
    "    # initialise the variables\n",
    "    sess.run(init_op)\n",
    "    total_batch = int(len(label_train) / batch_size)\n",
    "    for epoch in range(epochs):\n",
    "        avg_cost = 0\n",
    "        for i in range(total_batch):\n",
    "            batch_x, batch_y = next_batch(batch_size, image_train, label_train)\n",
    "            _, c = sess.run([optimiser, cross_entropy], \n",
    "                          feed_dict={x: batch_x, y: batch_y})\n",
    "            avg_cost += c / total_batch\n",
    "        print(\"Epoch:\", (epoch + 1), \"cost =\", \"{:.3f}\".format(avg_cost))\n",
    "        \n",
    "    print()\n",
    "    print(\"training complete! The accurancy is: \")\n",
    "    print(sess.run(accuracy, feed_dict={x: image_val, y: label_val}))\n",
    "        "
   ]
  },
  {
   "cell_type": "code",
   "execution_count": null,
   "metadata": {
    "collapsed": true
   },
   "outputs": [],
   "source": []
  },
  {
   "cell_type": "code",
   "execution_count": null,
   "metadata": {
    "collapsed": true
   },
   "outputs": [],
   "source": []
  },
  {
   "cell_type": "code",
   "execution_count": null,
   "metadata": {
    "collapsed": true
   },
   "outputs": [],
   "source": []
  },
  {
   "cell_type": "code",
   "execution_count": null,
   "metadata": {
    "collapsed": true
   },
   "outputs": [],
   "source": []
  }
 ],
 "metadata": {
  "kernelspec": {
   "display_name": "Python 3",
   "language": "python",
   "name": "python3"
  },
  "language_info": {
   "codemirror_mode": {
    "name": "ipython",
    "version": 3
   },
   "file_extension": ".py",
   "mimetype": "text/x-python",
   "name": "python",
   "nbconvert_exporter": "python",
   "pygments_lexer": "ipython3",
   "version": "3.6.2"
  }
 },
 "nbformat": 4,
 "nbformat_minor": 2
}
