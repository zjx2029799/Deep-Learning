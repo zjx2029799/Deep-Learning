{
 "cells": [
  {
   "cell_type": "code",
   "execution_count": 9,
   "metadata": {},
   "outputs": [],
   "source": [
    "import tensorflow as tf\n",
    "import numpy as np\n",
    "import random as rd\n",
    "from keras.utils import np_utils\n",
    "from keras.models import Sequential\n",
    "import matplotlib.pyplot as plt\n",
    "import time\n",
    "import keras.callbacks as cb\n",
    "from keras.models import Sequential\n",
    "from keras.layers.core import Activation, Dense, Dropout\n",
    "from keras.optimizers import SGD\n",
    "\n",
    "%matplotlib inline"
   ]
  },
  {
   "cell_type": "code",
   "execution_count": 10,
   "metadata": {
    "collapsed": true
   },
   "outputs": [],
   "source": [
    "image = np.loadtxt('bbs-train.txt')\n",
    "label = np.loadtxt('label-train.txt')\n",
    "image /= np.max(image)"
   ]
  },
  {
   "cell_type": "code",
   "execution_count": 11,
   "metadata": {
    "collapsed": true
   },
   "outputs": [],
   "source": [
    "# initialize the dataset\n",
    "d = 4200\n",
    "image_train = image[:d]\n",
    "image_val = image[d:]\n",
    "t = label[0:,1:]\n",
    "t_x = np.reshape(t, (1,4546))\n",
    "labels = np_utils.to_categorical(t_x, 2)\n",
    "label_train = labels[:d]\n",
    "label_val = labels[d:]"
   ]
  },
  {
   "cell_type": "code",
   "execution_count": 17,
   "metadata": {
    "collapsed": true
   },
   "outputs": [],
   "source": [
    "def DefineModel():\n",
    "    # hidden layers\n",
    "    # one lay\n",
    "    first_layer_width = 500\n",
    "    second_layer_width = 500\n",
    "    third_layer_width = 500\n",
    "    \n",
    "    # activation function\n",
    "    activation_func = 'relu' \n",
    "    \n",
    "    # loss function either categorical_crossentropy or mean_squared_error\n",
    "    loss_function = 'categorical_crossentropy'\n",
    "    \n",
    "    \n",
    "    learning_rate = 0.1\n",
    "    \n",
    "    # initialize the model\n",
    "    model= Sequential()\n",
    "    \n",
    "    ## First hidden layer with 'first_layer_width' neurons. \n",
    "    ## Also need to specify input dimension.\n",
    "    ## 'Dense' means fully-connected.\n",
    "    model.add(Dense(first_layer_width, input_dim=800))\n",
    "    model.add(Activation(activation_func))\n",
    "    model.add(Dropout(0.5))\n",
    "    \n",
    "    if second_layer_width > 0:\n",
    "        model.add(Dense(second_layer_width))\n",
    "        model.add(Activation(activation_func))\n",
    "        model.add(Dropout(0.1))\n",
    "        \n",
    "    if third_layer_width > 0:\n",
    "        model.add(Dense(third_layer_width))\n",
    "        model.add(Activation(activation_func))\n",
    "        model.add(Dropout(0.1))\n",
    "        \n",
    "    ## Last layer has the same dimension as the number of classes\n",
    "    model.add(Dense(2))\n",
    "    ## For classification, the activation is softmax\n",
    "    model.add(Activation('softmax'))\n",
    "    ## Define optimizer. Here, we select SGD.\n",
    "    opt = SGD(lr=learning_rate, clipnorm=5.)\n",
    "    model.compile(loss = loss_function, optimizer=opt, metrics=[\"accuracy\"])\n",
    "    \n",
    "    return model"
   ]
  },
  {
   "cell_type": "code",
   "execution_count": 18,
   "metadata": {
    "collapsed": true
   },
   "outputs": [],
   "source": [
    "def TrainModel(data=None, epochs=20):\n",
    "    batch=1024\n",
    "    start_time = time.time()\n",
    "    model = DefineModel()\n",
    "    x_train, x_val, y_train, y_val = data\n",
    "    print('Start training.')\n",
    "\n",
    "    history = model.fit(x_train, y_train, epochs=epochs, batch_size=batch,\n",
    "            validation_data=(x_val, y_val))\n",
    "    print(\"Training took {0} seconds.\".format(time.time() - start_time))\n",
    "    return model, history"
   ]
  },
  {
   "cell_type": "code",
   "execution_count": 19,
   "metadata": {},
   "outputs": [
    {
     "name": "stdout",
     "output_type": "stream",
     "text": [
      "Start training.\n",
      "Train on 4200 samples, validate on 346 samples\n",
      "Epoch 1/20\n",
      "\n",
      "1024/4200 [======>.......................] - ETA: 2s - loss: 0.6933 - acc: 0.4219\n",
      "2048/4200 [=============>................] - ETA: 0s - loss: 0.6892 - acc: 0.5410\n",
      "3072/4200 [====================>.........] - ETA: 0s - loss: 0.6843 - acc: 0.5811\n",
      "4096/4200 [============================>.] - ETA: 0s - loss: 0.6790 - acc: 0.6052\n",
      "4200/4200 [==============================] - ETA: 0s - loss: 0.6781 - acc: 0.6083 - val_loss: 0.5881 - val_acc: 0.8555\n",
      "Epoch 2/20\n",
      "\n",
      "1024/4200 [======>.......................] - ETA: 0s - loss: 0.6538 - acc: 0.6533\n",
      "2048/4200 [=============>................] - ETA: 0s - loss: 0.6503 - acc: 0.6582\n",
      "3072/4200 [====================>.........] - ETA: 0s - loss: 0.6469 - acc: 0.6637\n",
      "4096/4200 [============================>.] - ETA: 0s - loss: 0.6449 - acc: 0.6653\n",
      "4200/4200 [==============================] - ETA: 0s - loss: 0.6453 - acc: 0.6640 - val_loss: 0.5508 - val_acc: 0.8555\n",
      "Epoch 3/20\n",
      "\n",
      "1024/4200 [======>.......................] - ETA: 0s - loss: 0.6413 - acc: 0.6572\n",
      "2048/4200 [=============>................] - ETA: 0s - loss: 0.6374 - acc: 0.6641\n",
      "3072/4200 [====================>.........] - ETA: 0s - loss: 0.6371 - acc: 0.6631\n",
      "4096/4200 [============================>.] - ETA: 0s - loss: 0.6360 - acc: 0.6646\n",
      "4200/4200 [==============================] - ETA: 0s - loss: 0.6367 - acc: 0.6631 - val_loss: 0.5335 - val_acc: 0.8584\n",
      "Epoch 4/20\n",
      "\n",
      "1024/4200 [======>.......................] - ETA: 0s - loss: 0.6378 - acc: 0.6553\n",
      "2048/4200 [=============>................] - ETA: 0s - loss: 0.6373 - acc: 0.6567\n",
      "3072/4200 [====================>.........] - ETA: 0s - loss: 0.6336 - acc: 0.6637\n",
      "4096/4200 [============================>.] - ETA: 0s - loss: 0.6326 - acc: 0.6643\n",
      "4200/4200 [==============================] - ETA: 0s - loss: 0.6325 - acc: 0.6643 - val_loss: 0.5140 - val_acc: 0.8584\n",
      "Epoch 5/20\n",
      "\n",
      "1024/4200 [======>.......................] - ETA: 0s - loss: 0.6340 - acc: 0.6582\n",
      "2048/4200 [=============>................] - ETA: 0s - loss: 0.6304 - acc: 0.6641\n",
      "3072/4200 [====================>.........] - ETA: 0s - loss: 0.6307 - acc: 0.6628\n",
      "4096/4200 [============================>.] - ETA: 0s - loss: 0.6282 - acc: 0.6663\n",
      "4200/4200 [==============================] - ETA: 0s - loss: 0.6297 - acc: 0.6638 - val_loss: 0.5218 - val_acc: 0.8584\n",
      "Epoch 6/20\n",
      "\n",
      "1024/4200 [======>.......................] - ETA: 0s - loss: 0.6368 - acc: 0.6553\n",
      "2048/4200 [=============>................] - ETA: 0s - loss: 0.6353 - acc: 0.6558\n",
      "3072/4200 [====================>.........] - ETA: 0s - loss: 0.6296 - acc: 0.6644\n",
      "4096/4200 [============================>.] - ETA: 0s - loss: 0.6291 - acc: 0.6653\n",
      "4200/4200 [==============================] - ETA: 0s - loss: 0.6289 - acc: 0.6655 - val_loss: 0.5023 - val_acc: 0.8584\n",
      "Epoch 7/20\n",
      "\n",
      "1024/4200 [======>.......................] - ETA: 0s - loss: 0.6250 - acc: 0.6680\n",
      "2048/4200 [=============>................] - ETA: 0s - loss: 0.6231 - acc: 0.6704\n",
      "3072/4200 [====================>.........] - ETA: 0s - loss: 0.6222 - acc: 0.6729\n",
      "4096/4200 [============================>.] - ETA: 0s - loss: 0.6275 - acc: 0.6650\n",
      "4200/4200 [==============================] - ETA: 0s - loss: 0.6273 - acc: 0.6655 - val_loss: 0.4974 - val_acc: 0.8584\n",
      "Epoch 8/20\n",
      "\n",
      "1024/4200 [======>.......................] - ETA: 0s - loss: 0.6153 - acc: 0.6846\n",
      "2048/4200 [=============>................] - ETA: 0s - loss: 0.6141 - acc: 0.6860\n",
      "3072/4200 [====================>.........] - ETA: 0s - loss: 0.6226 - acc: 0.6725\n",
      "4096/4200 [============================>.] - ETA: 0s - loss: 0.6272 - acc: 0.6653\n",
      "4200/4200 [==============================] - ETA: 0s - loss: 0.6267 - acc: 0.6662 - val_loss: 0.4906 - val_acc: 0.8584\n",
      "Epoch 9/20\n",
      "\n",
      "1024/4200 [======>.......................] - ETA: 0s - loss: 0.6066 - acc: 0.6934\n",
      "2048/4200 [=============>................] - ETA: 0s - loss: 0.6232 - acc: 0.6699\n",
      "3072/4200 [====================>.........] - ETA: 0s - loss: 0.6302 - acc: 0.6592\n",
      "4096/4200 [============================>.] - ETA: 0s - loss: 0.6255 - acc: 0.6663\n",
      "4200/4200 [==============================] - ETA: 0s - loss: 0.6254 - acc: 0.6664 - val_loss: 0.4925 - val_acc: 0.8584\n",
      "Epoch 10/20\n",
      "\n",
      "1024/4200 [======>.......................] - ETA: 0s - loss: 0.6110 - acc: 0.6855\n",
      "2048/4200 [=============>................] - ETA: 0s - loss: 0.6159 - acc: 0.6802\n",
      "3072/4200 [====================>.........] - ETA: 0s - loss: 0.6219 - acc: 0.6725\n",
      "4096/4200 [============================>.] - ETA: 0s - loss: 0.6225 - acc: 0.6702\n",
      "4200/4200 [==============================] - ETA: 0s - loss: 0.6243 - acc: 0.6676 - val_loss: 0.5101 - val_acc: 0.8584\n",
      "Epoch 11/20\n",
      "\n",
      "1024/4200 [======>.......................] - ETA: 0s - loss: 0.6151 - acc: 0.6816\n",
      "2048/4200 [=============>................] - ETA: 0s - loss: 0.6222 - acc: 0.6694\n",
      "3072/4200 [====================>.........] - ETA: 0s - loss: 0.6246 - acc: 0.6676\n",
      "4096/4200 [============================>.] - ETA: 0s - loss: 0.6237 - acc: 0.6694\n",
      "4200/4200 [==============================] - ETA: 0s - loss: 0.6236 - acc: 0.6695 - val_loss: 0.4945 - val_acc: 0.8584\n",
      "Epoch 12/20\n",
      "\n",
      "1024/4200 [======>.......................] - ETA: 0s - loss: 0.6139 - acc: 0.6875\n",
      "2048/4200 [=============>................] - ETA: 0s - loss: 0.6133 - acc: 0.6855\n",
      "3072/4200 [====================>.........] - ETA: 0s - loss: 0.6202 - acc: 0.6761\n",
      "4096/4200 [============================>.] - ETA: 0s - loss: 0.6236 - acc: 0.6694\n",
      "4200/4200 [==============================] - ETA: 0s - loss: 0.6235 - acc: 0.6693 - val_loss: 0.4944 - val_acc: 0.8584\n",
      "Epoch 13/20\n",
      "\n",
      "1024/4200 [======>.......................] - ETA: 0s - loss: 0.6153 - acc: 0.6777\n",
      "2048/4200 [=============>................] - ETA: 0s - loss: 0.6258 - acc: 0.6641\n",
      "3072/4200 [====================>.........] - ETA: 0s - loss: 0.6264 - acc: 0.6667\n",
      "4096/4200 [============================>.] - ETA: 0s - loss: 0.6238 - acc: 0.6687\n",
      "4200/4200 [==============================] - ETA: 0s - loss: 0.6218 - acc: 0.6714 - val_loss: 0.4737 - val_acc: 0.8584\n",
      "Epoch 14/20\n",
      "\n",
      "1024/4200 [======>.......................] - ETA: 0s - loss: 0.6208 - acc: 0.6738\n",
      "2048/4200 [=============>................] - ETA: 0s - loss: 0.6230 - acc: 0.6675\n",
      "3072/4200 [====================>.........] - ETA: 0s - loss: 0.6229 - acc: 0.6689\n",
      "4096/4200 [============================>.] - ETA: 0s - loss: 0.6217 - acc: 0.6724\n",
      "4200/4200 [==============================] - ETA: 0s - loss: 0.6219 - acc: 0.6719 - val_loss: 0.4876 - val_acc: 0.8584\n",
      "Epoch 15/20\n",
      "\n",
      "1024/4200 [======>.......................] - ETA: 0s - loss: 0.6251 - acc: 0.6621\n",
      "2048/4200 [=============>................] - ETA: 0s - loss: 0.6270 - acc: 0.6646\n",
      "3072/4200 [====================>.........] - ETA: 0s - loss: 0.6234 - acc: 0.6699\n",
      "4096/4200 [============================>.] - ETA: 0s - loss: 0.6207 - acc: 0.6724\n",
      "4200/4200 [==============================] - ETA: 0s - loss: 0.6207 - acc: 0.6721 - val_loss: 0.4859 - val_acc: 0.8584\n",
      "Epoch 16/20\n",
      "\n",
      "1024/4200 [======>.......................] - ETA: 0s - loss: 0.6149 - acc: 0.6797\n",
      "2048/4200 [=============>................] - ETA: 0s - loss: 0.6185 - acc: 0.6733\n",
      "3072/4200 [====================>.........] - ETA: 0s - loss: 0.6223 - acc: 0.6676\n",
      "4096/4200 [============================>.] - ETA: 0s - loss: 0.6191 - acc: 0.6733\n",
      "4200/4200 [==============================] - ETA: 0s - loss: 0.6193 - acc: 0.6731 - val_loss: 0.4882 - val_acc: 0.8584\n",
      "Epoch 17/20\n",
      "\n",
      "1024/4200 [======>.......................] - ETA: 1s - loss: 0.6342 - acc: 0.6523\n",
      "2048/4200 [=============>................] - ETA: 0s - loss: 0.6226 - acc: 0.6694\n",
      "3072/4200 [====================>.........] - ETA: 0s - loss: 0.6226 - acc: 0.6683\n",
      "4096/4200 [============================>.] - ETA: 0s - loss: 0.6196 - acc: 0.6743\n",
      "4200/4200 [==============================] - ETA: 0s - loss: 0.6196 - acc: 0.6740 - val_loss: 0.4838 - val_acc: 0.8584\n",
      "Epoch 18/20\n",
      "\n",
      "1024/4200 [======>.......................] - ETA: 0s - loss: 0.6311 - acc: 0.6543\n",
      "2048/4200 [=============>................] - ETA: 0s - loss: 0.6275 - acc: 0.6665\n",
      "3072/4200 [====================>.........] - ETA: 0s - loss: 0.6188 - acc: 0.6755\n"
     ]
    },
    {
     "name": "stdout",
     "output_type": "stream",
     "text": [
      "4096/4200 [============================>.] - ETA: 0s - loss: 0.6197 - acc: 0.6726\n",
      "4200/4200 [==============================] - ETA: 0s - loss: 0.6184 - acc: 0.6745 - val_loss: 0.4719 - val_acc: 0.8584\n",
      "Epoch 19/20\n",
      "\n",
      "1024/4200 [======>.......................] - ETA: 0s - loss: 0.6070 - acc: 0.6836\n",
      "2048/4200 [=============>................] - ETA: 0s - loss: 0.6173 - acc: 0.6733\n",
      "3072/4200 [====================>.........] - ETA: 0s - loss: 0.6186 - acc: 0.6729\n",
      "4096/4200 [============================>.] - ETA: 0s - loss: 0.6185 - acc: 0.6724\n",
      "4200/4200 [==============================] - ETA: 0s - loss: 0.6175 - acc: 0.6748 - val_loss: 0.4621 - val_acc: 0.8584\n",
      "Epoch 20/20\n",
      "\n",
      "1024/4200 [======>.......................] - ETA: 0s - loss: 0.6149 - acc: 0.6846\n",
      "2048/4200 [=============>................] - ETA: 0s - loss: 0.6198 - acc: 0.6729\n",
      "3072/4200 [====================>.........] - ETA: 0s - loss: 0.6192 - acc: 0.6725\n",
      "4096/4200 [============================>.] - ETA: 0s - loss: 0.6177 - acc: 0.6733\n",
      "4200/4200 [==============================] - ETA: 0s - loss: 0.6181 - acc: 0.6738 - val_loss: 0.4728 - val_acc: 0.8584\n",
      "Training took 21.162031412124634 seconds.\n"
     ]
    }
   ],
   "source": [
    "trained_model, training_history = TrainModel(data=[image_train, image_val, label_train, label_val])"
   ]
  },
  {
   "cell_type": "code",
   "execution_count": 20,
   "metadata": {
    "collapsed": true
   },
   "outputs": [],
   "source": [
    "def PlotHistory(train_value, test_value, value_is_loss_or_acc):\n",
    "    f, ax = plt.subplots()\n",
    "    ax.plot([None] + train_value, 'o-')\n",
    "    ax.plot([None] + test_value, 'x-')\n",
    "    ## Plot legend and use the best location automatically: loc = 0.\n",
    "    ax.legend(['Train ' + value_is_loss_or_acc, 'Validation ' + value_is_loss_or_acc], loc = 0) \n",
    "    ax.set_title('Training/Validation ' + value_is_loss_or_acc + ' per Epoch')\n",
    "    ax.set_xlabel('Epoch')\n",
    "    ax.set_ylabel(value_is_loss_or_acc)  \n",
    " "
   ]
  },
  {
   "cell_type": "code",
   "execution_count": 21,
   "metadata": {},
   "outputs": [
    {
     "data": {
      "image/png": "[encoded data removed]",
      "text/plain": [
       "<matplotlib.figure.Figure at 0x250f3503048>"
      ]
     },
     "metadata": {},
     "output_type": "display_data"
    },
    {
     "data": {
      "image/png": "[encoded data removed]",
      "text/plain": [
       "<matplotlib.figure.Figure at 0x250f350afd0>"
      ]
     },
     "metadata": {},
     "output_type": "display_data"
    }
   ],
   "source": [
    "PlotHistory(training_history.history['loss'], training_history.history['val_loss'], 'Loss')\n",
    "PlotHistory(training_history.history['acc'], training_history.history['val_acc'], 'Accuracy')"
   ]
  },
  {
   "cell_type": "code",
   "execution_count": null,
   "metadata": {
    "collapsed": true
   },
   "outputs": [],
   "source": []
  },
  {
   "cell_type": "code",
   "execution_count": null,
   "metadata": {
    "collapsed": true
   },
   "outputs": [],
   "source": []
  }
 ],
 "metadata": {
  "kernelspec": {
   "display_name": "Python 3",
   "language": "python",
   "name": "python3"
  },
  "language_info": {
   "codemirror_mode": {
    "name": "ipython",
    "version": 3
   },
   "file_extension": ".py",
   "mimetype": "text/x-python",
   "name": "python",
   "nbconvert_exporter": "python",
   "pygments_lexer": "ipython3",
   "version": "3.6.2"
  }
 },
 "nbformat": 4,
 "nbformat_minor": 2
}
