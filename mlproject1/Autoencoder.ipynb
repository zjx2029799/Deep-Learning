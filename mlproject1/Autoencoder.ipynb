{
 "cells": [
  {
   "cell_type": "code",
   "execution_count": 7,
   "metadata": {
    "collapsed": true
   },
   "outputs": [],
   "source": [
    "import numpy as np\n",
    "import matplotlib as mpl\n",
    "mpl.use('Agg')\n",
    "import matplotlib.pyplot as plt\n",
    "import tensorflow as tf\n",
    "from keras.utils import np_utils"
   ]
  },
  {
   "cell_type": "code",
   "execution_count": 8,
   "metadata": {
    "collapsed": true
   },
   "outputs": [],
   "source": [
    "image = np.loadtxt('bbs-train.txt')\n",
    "label = np.loadtxt('label-train.txt')\n",
    "image /= np.max(image)\n",
    "# initialize the dataset\n",
    "d = 4200\n",
    "image_train = image[:d]\n",
    "image_val = image[d:]\n",
    "t = label[0:,1:]\n",
    "t_x = np.reshape(t, (1,4546))\n",
    "labels = np_utils.to_categorical(t_x, 2)\n",
    "label_train = labels[:d]\n",
    "label_val = labels[d:]"
   ]
  },
  {
   "cell_type": "code",
   "execution_count": 9,
   "metadata": {
    "collapsed": true
   },
   "outputs": [],
   "source": [
    "def next_batch(num, data, labels):\n",
    "    '''\n",
    "    Return a total of `num` random samples and labels. \n",
    "    '''\n",
    "    idx = np.arange(0 , len(data))\n",
    "    np.random.shuffle(idx)\n",
    "    idx = idx[:num]\n",
    "    data_shuffle = [data[ i] for i in idx]\n",
    "    labels_shuffle = [labels[ i] for i in idx]\n",
    "\n",
    "    return np.asarray(data_shuffle), np.asarray(labels_shuffle)"
   ]
  },
  {
   "cell_type": "code",
   "execution_count": 1,
   "metadata": {},
   "outputs": [
    {
     "name": "stdout",
     "output_type": "stream",
     "text": [
      "0x18\n"
     ]
    }
   ],
   "source": [
    "print(hex(24))"
   ]
  },
  {
   "cell_type": "code",
   "execution_count": 14,
   "metadata": {},
   "outputs": [
    {
     "name": "stdout",
     "output_type": "stream",
     "text": [
      "Training...\n",
      "  step, loss =      0:  0.697\n",
      "  step, loss =    100:  0.555\n",
      "  step, loss =    200:  0.447\n",
      "  step, loss =    300:  0.364\n",
      "  step, loss =    400:  0.305\n",
      "  step, loss =    500:  0.252\n",
      "  step, loss =    600:  0.216\n",
      "  step, loss =    700:  0.183\n",
      "  step, loss =    800:  0.165\n",
      "  step, loss =    900:  0.136\n",
      "training complete! \n",
      "loss (test) =  0.117642\n"
     ]
    }
   ],
   "source": [
    "\n",
    "# Variables\n",
    "x = tf.placeholder(\"float\", [None, 800])\n",
    "y_ = tf.placeholder(\"float\", [None, 2])\n",
    "\n",
    "w_enc = tf.Variable(tf.random_normal([800, 64], mean=0.0, stddev=0.05))\n",
    "w_dec = tf.Variable(tf.random_normal([64, 800], mean=0.0, stddev=0.05))\n",
    "# w_dec = tf.transpose(w_enc) # if you use tied weights\n",
    "b_enc = tf.Variable(tf.zeros([64]))\n",
    "b_dec = tf.Variable(tf.zeros([800]))\n",
    "\n",
    "# Create the model\n",
    "def model(X, w_e, b_e, w_d, b_d):\n",
    "    encoded = tf.sigmoid(tf.matmul(X, w_e) + b_e)\n",
    "    decoded = tf.sigmoid(tf.matmul(encoded, w_d) + b_d)\n",
    "    \n",
    "    return encoded, decoded\n",
    "\n",
    "encoded, decoded = model(x, w_enc, b_enc, w_dec, b_dec)\n",
    "\n",
    "# Cost Function basic term\n",
    "cross_entropy = -1. * x * tf.log(decoded) - (1. - x) * tf.log(1. - decoded)\n",
    "loss = tf.reduce_mean(cross_entropy)\n",
    "train_step = tf.train.AdagradOptimizer(0.1).minimize(loss)\n",
    "\n",
    "# Train\n",
    "init = tf.global_variables_initializer()\n",
    "\n",
    "correct_prediction = tf.equal(tf.argmax(y_,1), tf.argmax(decoded,1))\n",
    "accuracy = tf.reduce_mean(tf.cast(correct_prediction, \"float\"))\n",
    "\n",
    "with tf.Session() as sess:\n",
    "    sess.run(init)\n",
    "    print('Training...')\n",
    "    for i in range(1000):\n",
    "        batch_xs, batch_ys = next_batch(128, image_train, label_train)\n",
    "        train_step.run({x: batch_xs, y_: batch_ys})\n",
    "        \n",
    "        if i % 100 == 0:\n",
    "            train_loss = loss.eval({x: batch_xs, y_: batch_ys})\n",
    "            print('  step, loss = %6d: %6.3f' % (i, train_loss))\n",
    "        \n",
    "    # generate decoded image with test data\n",
    "    test_fd = {x: image_val, y_: label_val}\n",
    "    decoded_imgs = decoded.eval(test_fd)\n",
    "    print(\"training complete! \")\n",
    "    print('loss (test) = ', loss.eval(test_fd))"
   ]
  },
  {
   "cell_type": "code",
   "execution_count": null,
   "metadata": {
    "collapsed": true
   },
   "outputs": [],
   "source": []
  }
 ],
 "metadata": {
  "kernelspec": {
   "display_name": "Python 3",
   "language": "python",
   "name": "python3"
  },
  "language_info": {
   "codemirror_mode": {
    "name": "ipython",
    "version": 3
   },
   "file_extension": ".py",
   "mimetype": "text/x-python",
   "name": "python",
   "nbconvert_exporter": "python",
   "pygments_lexer": "ipython3",
   "version": "3.6.2"
  }
 },
 "nbformat": 4,
 "nbformat_minor": 2
}
